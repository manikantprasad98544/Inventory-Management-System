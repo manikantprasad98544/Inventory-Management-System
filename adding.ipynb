{
 "cells": [
  {
   "cell_type": "code",
   "execution_count": 28,
   "source": [
    "import json\r\n",
    "\r\n",
    "fd = open(\"record.json\",'r')\r\n",
    "txt=fd.read()\r\n",
    "fd.close()\r\n",
    "\r\n",
    "record = json.loads(txt)\r\n",
    "\r\n",
    "uid=str(input(\"Enter Product ID:\"))\r\n",
    "Quantity=int(input(\"Enter Quantity of Product: \"))\r\n",
    "if (uid in record.keys()):\r\n",
    "    record[uid]['Quantity']=record[uid]['Quantity']+Quantity\r\n",
    "    js = json.dumps(record)\r\n",
    "\r\n",
    "    fd = open(\"record.json\",'w')\r\n",
    "    fd.write(js)\r\n",
    "    fd.close()\r\n",
    "else:\r\n",
    "    Product=str(input(\"Enter Product Name:\"))\r\n",
    "    Category=str(input(\"Enter Category of Product: \"))\r\n",
    "    Price=int(input(\"Enter Price of Product: \"))\r\n",
    "    Expiry=str(input(\"Enter Expiry date of Product: \"))\r\n",
    "    record[uid]= {\"Product\": Product, \"Category\": Category, \"Price\": Price, \"Quantity\": Quantity, \"Expiry Date\": Expiry}\r\n",
    "    \r\n",
    "    js = json.dumps(record)\r\n",
    "\r\n",
    "    fd = open(\"record.json\",'w')\r\n",
    "    fd.write(js)\r\n",
    "    fd.close()"
   ],
   "outputs": [],
   "metadata": {}
  },
  {
   "cell_type": "code",
   "execution_count": 29,
   "source": [
    "record[uid]"
   ],
   "outputs": [
    {
     "output_type": "execute_result",
     "data": {
      "text/plain": [
       "{'Product': 'Sunfeast',\n",
       " 'Category': 'Biscuit',\n",
       " 'Price': 10,\n",
       " 'Quantity': 50,\n",
       " 'Expiry Date': '24Nov2021'}"
      ]
     },
     "metadata": {},
     "execution_count": 29
    }
   ],
   "metadata": {}
  },
  {
   "cell_type": "code",
   "execution_count": null,
   "source": [],
   "outputs": [],
   "metadata": {}
  }
 ],
 "metadata": {
  "orig_nbformat": 4,
  "language_info": {
   "name": "python",
   "version": "3.7.6",
   "mimetype": "text/x-python",
   "codemirror_mode": {
    "name": "ipython",
    "version": 3
   },
   "pygments_lexer": "ipython3",
   "nbconvert_exporter": "python",
   "file_extension": ".py"
  },
  "kernelspec": {
   "name": "python3",
   "display_name": "Python 3.7.6 64-bit"
  },
  "interpreter": {
   "hash": "4905652b14e4b7eb92899b78ac499a22c488804455b27940a322fd82aaf71031"
  }
 },
 "nbformat": 4,
 "nbformat_minor": 2
}