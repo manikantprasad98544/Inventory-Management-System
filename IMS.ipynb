{
 "cells": [
  {
   "cell_type": "code",
   "execution_count": 1,
   "source": [
    "import json\r\n",
    "\r\n",
    "fd = open(\"record.json\",'r')\r\n",
    "txt=fd.read()\r\n",
    "fd.close()\r\n",
    "inventory=json.loads(txt)\r\n",
    "\r\n",
    "fd1 = open(\"sales.json\",'r')\r\n",
    "sale=fd1.read()\r\n",
    "fd1.close()\r\n",
    "sales=json.loads(sale)\r\n",
    "\r\n",
    "print(\"WELCOME TO INVENTORY MANAGEMENT SYSTEM\")\r\n",
    "i = str(input(\"Enter Product UID:\"))\r\n",
    "\r\n",
    "print(\"The poduct UID Entered:\",i)\r\n",
    "if (i in inventory.keys()):\r\n",
    "    print(inventory[i])\r\n",
    "    quan= int(input(\"No Of Quantity Required:\"))\r\n",
    "    print(\"No Of Quantity Required:\",quan)\r\n",
    "    if quan<=inventory[i]['Quantity']:\r\n",
    "        print(\"Name Of Product:\",inventory[i]['Product'])\r\n",
    "        print(\"Category Of Product:\",inventory[i]['Category'])\r\n",
    "        print(\"Price Of Product: Rs\",inventory[i]['Price'])\r\n",
    "        print(\"Quantity Available:\",inventory[i]['Quantity'])\r\n",
    "        print(\"Quantity Purchased:\",quan)\r\n",
    "        bill = quan*inventory[i]['Price']\r\n",
    "        print(\"=======================\")\r\n",
    "        print(\"Total Price: Rs\",bill)\r\n",
    "        print(\"=======================\")\r\n",
    "        print(\"Thanks For Coming\")\r\n",
    "        inventory[i]['Quantity']=inventory[i]['Quantity']-quan\r\n",
    "        records=json.dumps(inventory)\r\n",
    "        fd = open(\"record.json\",'w')\r\n",
    "        fd.write(records)\r\n",
    "        fd.close()\r\n",
    "\r\n",
    "        sales[(str(len(sales)+1))] = {\"Product ID\": i,\"Product\":inventory[i]['Product'],\"Quantity Purchased\":quan,\"Bill\": bill}\r\n",
    "        sale=json.dumps(sales)\r\n",
    "        fds = open(\"sales.json\",'w')\r\n",
    "        fds.write(sale)\r\n",
    "        fds.close()\r\n",
    "\r\n",
    "    else:\r\n",
    "        print(\"Quantity Available:\",inventory[i]['Quantity'],\" You want to by the remaining\")\r\n",
    "        print(\"Enter Y for Yes or N for No \")\r\n",
    "        c=input(\"Enter Y or N \")\r\n",
    "        if c==\"y\" or c==\"Y\":\r\n",
    "            print(\"You have Entered:\",c)\r\n",
    "            print(\"Name Of Product:\",inventory[i]['Product'])\r\n",
    "            print(\"Category Of Product:\",inventory[i]['Category'])\r\n",
    "            print(\"Price Of Product: Rs\",inventory[i]['Price'])\r\n",
    "            print(\"Quantity Available:\",inventory[i]['Quantity'])\r\n",
    "            print(\"Quantity Purchased:\",inventory[i]['Quantity'])\r\n",
    "            cost=inventory[i]['Quantity']*inventory[i]['Price']\r\n",
    "            print(\"=======================\")\r\n",
    "            print(\"Total Price: Rs\",cost)\r\n",
    "            print(\"=======================\")\r\n",
    "            print(\"Thanks For Coming\")\r\n",
    "            \r\n",
    "            k=inventory[i]['Quantity']\r\n",
    "            inventory[i]['Quantity']=inventory[i]['Quantity']-inventory[i]['Quantity']\r\n",
    "            records=json.dumps(inventory)\r\n",
    "            fd = open(\"record.json\",'w')\r\n",
    "            fd.write(records)\r\n",
    "            fd.close()\r\n",
    "                \r\n",
    "            sales[(str(len(sales)+1))] = {\"Product ID\": i,\"Product\":inventory[i]['Product'],\"Quantity Purchased\":k,\"Bill\": cost}\r\n",
    "            sale=json.dumps(sales)\r\n",
    "            fds = open(\"sales.json\",'w')\r\n",
    "            fds.write(sale)\r\n",
    "            fds.close()\r\n",
    "            \r\n",
    "        elif c==\"n\" or c==\"N\":\r\n",
    "            print(\"You have Entered:\",c)\r\n",
    "            print(\"Thanks For Coming\")\r\n",
    "else:\r\n",
    "    print(\"Produt is not available\")"
   ],
   "outputs": [
    {
     "output_type": "stream",
     "name": "stdout",
     "text": [
      "WELCOME TO INVENTORY MANAGEMENT SYSTEM\n",
      "The poduct UID Entered: 202101\n",
      "{'Product': 'Kitkat', 'Category': 'Chocolate', 'Price': 10, 'Quantity': 120, 'Expiry Date': '26Nov2021'}\n",
      "No Of Quantity Required: 120\n",
      "Name Of Product: Kitkat\n",
      "Category Of Product: Chocolate\n",
      "Price Of Product: Rs 10\n",
      "Quantity Available: 120\n",
      "Quantity Purchased: 120\n",
      "=======================\n",
      "Total Price: Rs 1200\n",
      "=======================\n",
      "Thanks For Coming\n"
     ]
    }
   ],
   "metadata": {}
  },
  {
   "cell_type": "code",
   "execution_count": 107,
   "source": [
    "inventory[i]"
   ],
   "outputs": [
    {
     "output_type": "execute_result",
     "data": {
      "text/plain": [
       "{'Product': 'Sunfeast',\n",
       " 'Category': 'Biscuit',\n",
       " 'Price': 10,\n",
       " 'Quantity': 0,\n",
       " 'Expiry Date': '24Nov2021'}"
      ]
     },
     "metadata": {},
     "execution_count": 107
    }
   ],
   "metadata": {}
  },
  {
   "cell_type": "code",
   "execution_count": null,
   "source": [],
   "outputs": [],
   "metadata": {}
  }
 ],
 "metadata": {
  "orig_nbformat": 4,
  "language_info": {
   "name": "python",
   "version": "3.7.6",
   "mimetype": "text/x-python",
   "codemirror_mode": {
    "name": "ipython",
    "version": 3
   },
   "pygments_lexer": "ipython3",
   "nbconvert_exporter": "python",
   "file_extension": ".py"
  },
  "kernelspec": {
   "name": "python3",
   "display_name": "Python 3.7.6 64-bit"
  },
  "interpreter": {
   "hash": "4905652b14e4b7eb92899b78ac499a22c488804455b27940a322fd82aaf71031"
  }
 },
 "nbformat": 4,
 "nbformat_minor": 2
}