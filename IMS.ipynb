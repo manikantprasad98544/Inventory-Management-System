{
 "cells": [
  {
   "cell_type": "code",
   "execution_count": 6,
   "source": [
    "record = {202101:{\"Product\":\"Kitkat\",\"Category\":\"Chocolate\",\"Price\":10,\"Quantity\":100,\"Expiry Date\":\"26Nov2021\"},\r\n",
    "          202102:{\"Product\":\"Munch\",\"Category\":\"Chocolate\",\"Price\":10,\"Quantity\":100,\"Expiry Date\":\"27Nov2021\"},\r\n",
    "          202103:{\"Product\":\"Dairy Milk\",\"Category\":\"Chocolate\",\"Price\":10,\"Quantity\":100,\"Expiry Date\":\"24Nov2021\"},\r\n",
    "          202104:{\"Product\":\"5 Star\",\"Category\":\"Chocolate\",\"Price\":20,\"Quantity\":100,\"Expiry Date\":\"26Nov2021\"},\r\n",
    "          202105:{\"Product\":\"cadbury\",\"Category\":\"Chocolate\",\"Price\":10,\"Quantity\":100,\"Expiry Date\":\"24Dec2021\"},\r\n",
    "          202106:{\"Product\":\"Snickers\",\"Category\":\"Chocolate\",\"Price\":15,\"Quantity\":100,\"Expiry Date\":\"24Nov2021\"},\r\n",
    "          202107:{\"Product\":\"Coca-Cola\",\"Category\":\"Soft Drinks\",\"Price\":40,\"Quantity\":100,\"Expiry Date\":\"24Nov2021\"},\r\n",
    "          202108:{\"Product\":\"Fanta\",\"Category\":\"Soft Drinks\",\"Price\":35,\"Quantity\":100,\"Expiry Date\":\"24Nov2021\"},\r\n",
    "          202109:{\"Product\":\"Mazza\",\"Category\":\"Soft Drinks\",\"Price\":35,\"Quantity\":100,\"Expiry Date\":\"24Nov2021\"},\r\n",
    "          202110:{\"Product\":\"Slice\",\"Category\":\"Soft Drinks\",\"Price\":40,\"Quantity\":100,\"Expiry Date\":\"24Nov2021\"},\r\n",
    "          202111:{\"Product\":\"Maggi\",\"Category\":\"Noodles\",\"Price\":10,\"Quantity\":200,\"Expiry Date\":\"24Nov2021\"},\r\n",
    "          202112:{\"Product\":\"Chawmin\",\"Category\":\"Noodles\",\"Price\":10,\"Quantity\":100,\"Expiry Date\":\"24Nov2021\"},\r\n",
    "          202113:{\"Product\":\"Yippee\",\"Category\":\"Noodles\",\"Price\":10,\"Quantity\":100,\"Expiry Date\":\"24Nov2021\"},\r\n",
    "          202114:{\"Product\":\"Musturd Oil\",\"Category\":\"Oil\",\"Price\":120,\"Quantity\":100,\"Expiry Date\":\"24Nov2021\"},\r\n",
    "          202115:{\"Product\":\"Rice Brain\",\"Category\":\"Oil\",\"Price\":120,\"Quantity\":100,\"Expiry Date\":\"24Nov2021\"},\r\n",
    "          202116:{\"Product\":\"Olive Active\",\"Category\":\"Oil\",\"Price\":200,\"Quantity\":100,\"Expiry Date\":\"24Nov2021\"},\r\n",
    "          202117:{\"Product\":\"Oreo\",\"Category\":\"Biscuit\",\"Price\":10,\"Quantity\":100,\"Expiry Date\":\"24Nov2021\"},\r\n",
    "          202118:{\"Product\":\"Sunfeast\",\"Category\":\"Biscuit\",\"Price\":10,\"Quantity\":100,\"Expiry Date\":\"24Nov2021\"},\r\n",
    "          202119:{\"Product\":\"50-50\",\"Category\":\"Biscuit\",\"Price\":15,\"Quantity\":100,\"Expiry Date\":\"24Nov2021\"},\r\n",
    "          202120:{\"Product\":\"Dark Fantasy\",\"Category\":\"Biscuit\",\"Price\":40,\"Quantity\":100,\"Expiry Date\":\"24Dec2021\"},\r\n",
    "          202121:{\"Product\":\"Burbon\",\"Category\":\"Biscuit\",\"Price\":40,\"Quantity\":100,\"Expiry Date\":\"24Dec2021\"},\r\n",
    "          202122:{\"Product\":\"Milano\",\"Category\":\"Biscuit\",\"Price\":40,\"Quantity\":100,\"Expiry Date\":\"24Dec2021\"},\r\n",
    "          202123:{\"Product\":\"Cake\",\"Category\":\"Pastry\",\"Price\":25,\"Quantity\":100,\"Expiry Date\":\"24Dec2021\"},\r\n",
    "          202124:{\"Product\":\"Lays\",\"Category\":\"Chips\",\"Price\":10,\"Quantity\":100,\"Expiry Date\":\"24Dec2021\"},\r\n",
    "          202125:{\"Product\":\"Uncle Chips\",\"Category\":\"Chips\",\"Price\":10,\"Quantity\":100,\"Expiry Date\":\"24Dec2021\"},\r\n",
    "          202126:{\"Product\":\"Mad Angle\",\"Category\":\"Chips\",\"Price\":10,\"Quantity\":100,\"Expiry Date\":\"24Dec2021\"},\r\n",
    "          202127:{\"Product\":\"Cheatos\",\"Category\":\"Chips\",\"Price\":10,\"Quantity\":100,\"Expiry Date\":\"24Dec2021\"},\r\n",
    "          202128:{\"Product\":\"Pasta\",\"Category\":\"Macroni\",\"Price\":20,\"Quantity\":100,\"Expiry Date\":\"24Dec2021\"},\r\n",
    "          202129:{\"Product\":\"SwissRoll\",\"Category\":\"Cake\",\"Price\":10,\"Quantity\":100,\"Expiry Date\":\"24Dec2021\"},\r\n",
    "          202130:{\"Product\":\"Krack-Jack\",\"Category\":\"Biscuit\",\"Price\":10,\"Quantity\":100,\"Expiry Date\":\"24Dec2021\"},\r\n",
    "          }"
   ],
   "outputs": [],
   "metadata": {}
  },
  {
   "cell_type": "code",
   "execution_count": 23,
   "source": [
    "record[202101]"
   ],
   "outputs": [
    {
     "output_type": "execute_result",
     "data": {
      "text/plain": [
       "{'Product': 'Kitkat',\n",
       " 'Category': 'Chocolate',\n",
       " 'Price': 10,\n",
       " 'Quantity': 100,\n",
       " 'Expiry Date': '26Nov2021'}"
      ]
     },
     "metadata": {},
     "execution_count": 23
    }
   ],
   "metadata": {}
  },
  {
   "cell_type": "code",
   "execution_count": 7,
   "source": [
    "import json"
   ],
   "outputs": [],
   "metadata": {}
  },
  {
   "cell_type": "code",
   "execution_count": 8,
   "source": [
    "js=json.dumps(record)"
   ],
   "outputs": [],
   "metadata": {}
  },
  {
   "cell_type": "code",
   "execution_count": 9,
   "source": [
    "js"
   ],
   "outputs": [
    {
     "output_type": "execute_result",
     "data": {
      "text/plain": [
       "'{\"202101\": {\"Product\": \"Kitkat\", \"Category\": \"Chocolate\", \"Price\": 10, \"Quantity\": 100, \"Expiry Date\": \"26Nov2021\"}, \"202102\": {\"Product\": \"Munch\", \"Category\": \"Chocolate\", \"Price\": 10, \"Quantity\": 100, \"Expiry Date\": \"27Nov2021\"}, \"202103\": {\"Product\": \"Dairy Milk\", \"Category\": \"Chocolate\", \"Price\": 10, \"Quantity\": 100, \"Expiry Date\": \"24Nov2021\"}, \"202104\": {\"Product\": \"5 Star\", \"Category\": \"Chocolate\", \"Price\": 20, \"Quantity\": 100, \"Expiry Date\": \"26Nov2021\"}, \"202105\": {\"Product\": \"cadbury\", \"Category\": \"Chocolate\", \"Price\": 10, \"Quantity\": 100, \"Expiry Date\": \"24Dec2021\"}, \"202106\": {\"Product\": \"Snickers\", \"Category\": \"Chocolate\", \"Price\": 15, \"Quantity\": 100, \"Expiry Date\": \"24Nov2021\"}, \"202107\": {\"Product\": \"Coca-Cola\", \"Category\": \"Soft Drinks\", \"Price\": 40, \"Quantity\": 100, \"Expiry Date\": \"24Nov2021\"}, \"202108\": {\"Product\": \"Fanta\", \"Category\": \"Soft Drinks\", \"Price\": 35, \"Quantity\": 100, \"Expiry Date\": \"24Nov2021\"}, \"202109\": {\"Product\": \"Mazza\", \"Category\": \"Soft Drinks\", \"Price\": 35, \"Quantity\": 100, \"Expiry Date\": \"24Nov2021\"}, \"202110\": {\"Product\": \"Slice\", \"Category\": \"Soft Drinks\", \"Price\": 40, \"Quantity\": 100, \"Expiry Date\": \"24Nov2021\"}, \"202111\": {\"Product\": \"Maggi\", \"Category\": \"Noodles\", \"Price\": 10, \"Quantity\": 200, \"Expiry Date\": \"24Nov2021\"}, \"202112\": {\"Product\": \"Chawmin\", \"Category\": \"Noodles\", \"Price\": 10, \"Quantity\": 100, \"Expiry Date\": \"24Nov2021\"}, \"202113\": {\"Product\": \"Yippee\", \"Category\": \"Noodles\", \"Price\": 10, \"Quantity\": 100, \"Expiry Date\": \"24Nov2021\"}, \"202114\": {\"Product\": \"Musturd Oil\", \"Category\": \"Oil\", \"Price\": 120, \"Quantity\": 100, \"Expiry Date\": \"24Nov2021\"}, \"202115\": {\"Product\": \"Rice Brain\", \"Category\": \"Oil\", \"Price\": 120, \"Quantity\": 100, \"Expiry Date\": \"24Nov2021\"}, \"202116\": {\"Product\": \"Olive Active\", \"Category\": \"Oil\", \"Price\": 200, \"Quantity\": 100, \"Expiry Date\": \"24Nov2021\"}, \"202117\": {\"Product\": \"Oreo\", \"Category\": \"Biscuit\", \"Price\": 10, \"Quantity\": 100, \"Expiry Date\": \"24Nov2021\"}, \"202118\": {\"Product\": \"Sunfeast\", \"Category\": \"Biscuit\", \"Price\": 10, \"Quantity\": 100, \"Expiry Date\": \"24Nov2021\"}, \"202119\": {\"Product\": \"50-50\", \"Category\": \"Biscuit\", \"Price\": 15, \"Quantity\": 100, \"Expiry Date\": \"24Nov2021\"}, \"202120\": {\"Product\": \"Dark Fantasy\", \"Category\": \"Biscuit\", \"Price\": 40, \"Quantity\": 100, \"Expiry Date\": \"24Dec2021\"}, \"202121\": {\"Product\": \"Burbon\", \"Category\": \"Biscuit\", \"Price\": 40, \"Quantity\": 100, \"Expiry Date\": \"24Dec2021\"}, \"202122\": {\"Product\": \"Milano\", \"Category\": \"Biscuit\", \"Price\": 40, \"Quantity\": 100, \"Expiry Date\": \"24Dec2021\"}, \"202123\": {\"Product\": \"Cake\", \"Category\": \"Pastry\", \"Price\": 25, \"Quantity\": 100, \"Expiry Date\": \"24Dec2021\"}, \"202124\": {\"Product\": \"Lays\", \"Category\": \"Chips\", \"Price\": 10, \"Quantity\": 100, \"Expiry Date\": \"24Dec2021\"}, \"202125\": {\"Product\": \"Uncle Chips\", \"Category\": \"Chips\", \"Price\": 10, \"Quantity\": 100, \"Expiry Date\": \"24Dec2021\"}, \"202126\": {\"Product\": \"Mad Angle\", \"Category\": \"Chips\", \"Price\": 10, \"Quantity\": 100, \"Expiry Date\": \"24Dec2021\"}, \"202127\": {\"Product\": \"Cheatos\", \"Category\": \"Chips\", \"Price\": 10, \"Quantity\": 100, \"Expiry Date\": \"24Dec2021\"}, \"202128\": {\"Product\": \"Pasta\", \"Category\": \"Macroni\", \"Price\": 20, \"Quantity\": 100, \"Expiry Date\": \"24Dec2021\"}, \"202129\": {\"Product\": \"SwissRoll\", \"Category\": \"Cake\", \"Price\": 10, \"Quantity\": 100, \"Expiry Date\": \"24Dec2021\"}, \"202130\": {\"Product\": \"Krack-Jack\", \"Category\": \"Biscuit\", \"Price\": 10, \"Quantity\": 100, \"Expiry Date\": \"24Dec2021\"}}'"
      ]
     },
     "metadata": {},
     "execution_count": 9
    }
   ],
   "metadata": {}
  },
  {
   "cell_type": "code",
   "execution_count": 10,
   "source": [
    "record"
   ],
   "outputs": [
    {
     "output_type": "execute_result",
     "data": {
      "text/plain": [
       "{202101: {'Product': 'Kitkat',\n",
       "  'Category': 'Chocolate',\n",
       "  'Price': 10,\n",
       "  'Quantity': 100,\n",
       "  'Expiry Date': '26Nov2021'},\n",
       " 202102: {'Product': 'Munch',\n",
       "  'Category': 'Chocolate',\n",
       "  'Price': 10,\n",
       "  'Quantity': 100,\n",
       "  'Expiry Date': '27Nov2021'},\n",
       " 202103: {'Product': 'Dairy Milk',\n",
       "  'Category': 'Chocolate',\n",
       "  'Price': 10,\n",
       "  'Quantity': 100,\n",
       "  'Expiry Date': '24Nov2021'},\n",
       " 202104: {'Product': '5 Star',\n",
       "  'Category': 'Chocolate',\n",
       "  'Price': 20,\n",
       "  'Quantity': 100,\n",
       "  'Expiry Date': '26Nov2021'},\n",
       " 202105: {'Product': 'cadbury',\n",
       "  'Category': 'Chocolate',\n",
       "  'Price': 10,\n",
       "  'Quantity': 100,\n",
       "  'Expiry Date': '24Dec2021'},\n",
       " 202106: {'Product': 'Snickers',\n",
       "  'Category': 'Chocolate',\n",
       "  'Price': 15,\n",
       "  'Quantity': 100,\n",
       "  'Expiry Date': '24Nov2021'},\n",
       " 202107: {'Product': 'Coca-Cola',\n",
       "  'Category': 'Soft Drinks',\n",
       "  'Price': 40,\n",
       "  'Quantity': 100,\n",
       "  'Expiry Date': '24Nov2021'},\n",
       " 202108: {'Product': 'Fanta',\n",
       "  'Category': 'Soft Drinks',\n",
       "  'Price': 35,\n",
       "  'Quantity': 100,\n",
       "  'Expiry Date': '24Nov2021'},\n",
       " 202109: {'Product': 'Mazza',\n",
       "  'Category': 'Soft Drinks',\n",
       "  'Price': 35,\n",
       "  'Quantity': 100,\n",
       "  'Expiry Date': '24Nov2021'},\n",
       " 202110: {'Product': 'Slice',\n",
       "  'Category': 'Soft Drinks',\n",
       "  'Price': 40,\n",
       "  'Quantity': 100,\n",
       "  'Expiry Date': '24Nov2021'},\n",
       " 202111: {'Product': 'Maggi',\n",
       "  'Category': 'Noodles',\n",
       "  'Price': 10,\n",
       "  'Quantity': 200,\n",
       "  'Expiry Date': '24Nov2021'},\n",
       " 202112: {'Product': 'Chawmin',\n",
       "  'Category': 'Noodles',\n",
       "  'Price': 10,\n",
       "  'Quantity': 100,\n",
       "  'Expiry Date': '24Nov2021'},\n",
       " 202113: {'Product': 'Yippee',\n",
       "  'Category': 'Noodles',\n",
       "  'Price': 10,\n",
       "  'Quantity': 100,\n",
       "  'Expiry Date': '24Nov2021'},\n",
       " 202114: {'Product': 'Musturd Oil',\n",
       "  'Category': 'Oil',\n",
       "  'Price': 120,\n",
       "  'Quantity': 100,\n",
       "  'Expiry Date': '24Nov2021'},\n",
       " 202115: {'Product': 'Rice Brain',\n",
       "  'Category': 'Oil',\n",
       "  'Price': 120,\n",
       "  'Quantity': 100,\n",
       "  'Expiry Date': '24Nov2021'},\n",
       " 202116: {'Product': 'Olive Active',\n",
       "  'Category': 'Oil',\n",
       "  'Price': 200,\n",
       "  'Quantity': 100,\n",
       "  'Expiry Date': '24Nov2021'},\n",
       " 202117: {'Product': 'Oreo',\n",
       "  'Category': 'Biscuit',\n",
       "  'Price': 10,\n",
       "  'Quantity': 100,\n",
       "  'Expiry Date': '24Nov2021'},\n",
       " 202118: {'Product': 'Sunfeast',\n",
       "  'Category': 'Biscuit',\n",
       "  'Price': 10,\n",
       "  'Quantity': 100,\n",
       "  'Expiry Date': '24Nov2021'},\n",
       " 202119: {'Product': '50-50',\n",
       "  'Category': 'Biscuit',\n",
       "  'Price': 15,\n",
       "  'Quantity': 100,\n",
       "  'Expiry Date': '24Nov2021'},\n",
       " 202120: {'Product': 'Dark Fantasy',\n",
       "  'Category': 'Biscuit',\n",
       "  'Price': 40,\n",
       "  'Quantity': 100,\n",
       "  'Expiry Date': '24Dec2021'},\n",
       " 202121: {'Product': 'Burbon',\n",
       "  'Category': 'Biscuit',\n",
       "  'Price': 40,\n",
       "  'Quantity': 100,\n",
       "  'Expiry Date': '24Dec2021'},\n",
       " 202122: {'Product': 'Milano',\n",
       "  'Category': 'Biscuit',\n",
       "  'Price': 40,\n",
       "  'Quantity': 100,\n",
       "  'Expiry Date': '24Dec2021'},\n",
       " 202123: {'Product': 'Cake',\n",
       "  'Category': 'Pastry',\n",
       "  'Price': 25,\n",
       "  'Quantity': 100,\n",
       "  'Expiry Date': '24Dec2021'},\n",
       " 202124: {'Product': 'Lays',\n",
       "  'Category': 'Chips',\n",
       "  'Price': 10,\n",
       "  'Quantity': 100,\n",
       "  'Expiry Date': '24Dec2021'},\n",
       " 202125: {'Product': 'Uncle Chips',\n",
       "  'Category': 'Chips',\n",
       "  'Price': 10,\n",
       "  'Quantity': 100,\n",
       "  'Expiry Date': '24Dec2021'},\n",
       " 202126: {'Product': 'Mad Angle',\n",
       "  'Category': 'Chips',\n",
       "  'Price': 10,\n",
       "  'Quantity': 100,\n",
       "  'Expiry Date': '24Dec2021'},\n",
       " 202127: {'Product': 'Cheatos',\n",
       "  'Category': 'Chips',\n",
       "  'Price': 10,\n",
       "  'Quantity': 100,\n",
       "  'Expiry Date': '24Dec2021'},\n",
       " 202128: {'Product': 'Pasta',\n",
       "  'Category': 'Macroni',\n",
       "  'Price': 20,\n",
       "  'Quantity': 100,\n",
       "  'Expiry Date': '24Dec2021'},\n",
       " 202129: {'Product': 'SwissRoll',\n",
       "  'Category': 'Cake',\n",
       "  'Price': 10,\n",
       "  'Quantity': 100,\n",
       "  'Expiry Date': '24Dec2021'},\n",
       " 202130: {'Product': 'Krack-Jack',\n",
       "  'Category': 'Biscuit',\n",
       "  'Price': 10,\n",
       "  'Quantity': 100,\n",
       "  'Expiry Date': '24Dec2021'}}"
      ]
     },
     "metadata": {},
     "execution_count": 10
    }
   ],
   "metadata": {}
  },
  {
   "cell_type": "code",
   "execution_count": 11,
   "source": [
    "fd = open(\"record.json\",'w')\r\n",
    "fd.write(js)\r\n",
    "fd.close()"
   ],
   "outputs": [],
   "metadata": {}
  },
  {
   "cell_type": "code",
   "execution_count": 12,
   "source": [
    "fd = open(\"record.json\",'r')\r\n",
    "txt=fd.read()\r\n",
    "fd.close()"
   ],
   "outputs": [],
   "metadata": {}
  },
  {
   "cell_type": "code",
   "execution_count": 13,
   "source": [
    "inventory=json.loads(txt)"
   ],
   "outputs": [],
   "metadata": {}
  },
  {
   "cell_type": "code",
   "execution_count": 14,
   "source": [
    "import random\r\n",
    "\r\n",
    "\r\n",
    "inventory=json.loads(txt)\r\n",
    "\r\n",
    "print(\"WELCOME TO INVENTORY MANAGEMENT SYSTEM\")\r\n",
    "uid = str(input(\"Enter Product UID:\"))\r\n",
    "\r\n",
    "print(\"The poduct UID Entered:\",uid)\r\n",
    "for i in inventory.keys():\r\n",
    "    if i == uid:\r\n",
    "        print(inventory[i])\r\n",
    "        quan= int(input(\"No Of Quantity Required:\"))\r\n",
    "        print(\"No Of Quantity Required:\",quan)\r\n",
    "        if quan<inventory[i]['Quantity']:\r\n",
    "            print(\"Name Of Product:\",inventory[i]['Product'])\r\n",
    "            print(\"Category Of Product:\",inventory[i]['Category'])\r\n",
    "            print(\"Price Of Product: Rs\",inventory[i]['Price'])\r\n",
    "            print(\"Quantity Available:\",inventory[i]['Quantity'])\r\n",
    "            print(\"Quantity Purchased:\",quan)\r\n",
    "            bill = quan*inventory[i]['Price']\r\n",
    "            print(\"=======================\")\r\n",
    "            print(\"Total Price: Rs\",bill)\r\n",
    "            print(\"=======================\")\r\n",
    "            print(\"Thanks For Coming\")\r\n",
    "            inventory[i]['Quantity']=inventory[i]['Quantity']-quan\r\n",
    "            records=json.dumps(inventory)\r\n",
    "            fd = open(\"record.json\",'w')\r\n",
    "            fd.write(records)\r\n",
    "            fd.close()\r\n",
    "\r\n",
    "            fds = open(\"sales.txt\",'a')\r\n",
    "            transaction= random.randint(1,100000)\r\n",
    "            sale = \"Transaction Id:\"+str(transaction) + \",\"+\"Product Name:\"+ inventory[i]['Product'] + \",\" + \"Product Id:\"+uid + \",\" + \"Quantity Purchased:\"+str(quan) + \",\" + \"Product Price:\"+str(inventory[i]['Price']) + \",\" + \"Total Price:\"+str(bill) + \"\\n\"\r\n",
    "            fds.write(sale)\r\n",
    "            fds.close()\r\n",
    "\r\n",
    "        else:\r\n",
    "            print(\"Quantity Available:\",inventory[i]['Quantity'],\" You want to by the remaining\")\r\n",
    "            print(\"Enter Y for Yes or N for No \")\r\n",
    "            c=input(\"Enter Y or N \")\r\n",
    "            if c==\"y\" or c==\"Y\":\r\n",
    "                print(\"You have Entered:\",c)\r\n",
    "                print(\"Name Of Product:\",inventory[i]['Product'])\r\n",
    "                print(\"Category Of Product:\",inventory[i]['Category'])\r\n",
    "                print(\"Price Of Product: Rs\",inventory[i]['Price'])\r\n",
    "                print(\"Quantity Available:\",inventory[i]['Quantity'])\r\n",
    "                print(\"Quantity Purchased:\",inventory[i]['Quantity'])\r\n",
    "                bill = quan*inventory[i]['Price']\r\n",
    "                print(\"=======================\")\r\n",
    "                print(\"Total Price: Rs\",bill)\r\n",
    "                print(\"=======================\")\r\n",
    "                print(\"Thanks For Coming\")\r\n",
    "                inventory[i]['Quantity']=inventory[i]['Quantity']-quan\r\n",
    "                records=json.dumps(inventory)\r\n",
    "                fd = open(\"record.json\",'w')\r\n",
    "                fd.write(records)\r\n",
    "                fd.close()\r\n",
    "\r\n",
    "                fds = open(\"sales.txt\",'a')\r\n",
    "                transaction= random.randint(1,1000)\r\n",
    "                sale = \"Transaction Id:\"+str(transaction) + \",\" + \"Product Name:\"+ inventory[i]['Product'] + \",\" + \"Product Id:\"+uid + \",\" + \"Quantity Purchased:\"+str(inventory[i]['Quantity']) + \",\"+ \"Product Price:\"+str(inventory[i]['Price']) + \",\"+ \"Total Price:\"+str(bill) + \"\\n\"\r\n",
    "                fds.write(sale)\r\n",
    "                fds.close()\r\n",
    "            elif c==\"n\" or c==\"N\":\r\n",
    "                print(\"You have Entered:\",c)\r\n",
    "                print(\"Thanks For Coming\")"
   ],
   "outputs": [
    {
     "output_type": "stream",
     "name": "stdout",
     "text": [
      "WELCOME TO INVENTORY MANAGEMENT SYSTEM\n",
      "The poduct UID Entered: 202115\n",
      "{'Product': 'Rice Brain', 'Category': 'Oil', 'Price': 120, 'Quantity': 100, 'Expiry Date': '24Nov2021'}\n",
      "No Of Quantity Required: 4\n",
      "Name Of Product: Rice Brain\n",
      "Category Of Product: Oil\n",
      "Price Of Product: Rs 120\n",
      "Quantity Available: 100\n",
      "Quantity Purchased: 4\n",
      "=======================\n",
      "Total Price: Rs 480\n",
      "=======================\n",
      "Thanks For Coming\n"
     ]
    }
   ],
   "metadata": {}
  },
  {
   "cell_type": "code",
   "execution_count": 27,
   "source": [
    "records"
   ],
   "outputs": [
    {
     "output_type": "execute_result",
     "data": {
      "text/plain": [
       "'{\"202101\": {\"Product\": \"Kitkat\", \"Category\": \"Chocolate\", \"Price\": 10, \"Quantity\": 100, \"Expiry Date\": \"26Nov2021\"}, \"202102\": {\"Product\": \"Munch\", \"Category\": \"Chocolate\", \"Price\": 10, \"Quantity\": 100, \"Expiry Date\": \"27Nov2021\"}, \"202103\": {\"Product\": \"Dairy Milk\", \"Category\": \"Chocolate\", \"Price\": 10, \"Quantity\": 100, \"Expiry Date\": \"24Nov2021\"}, \"202104\": {\"Product\": \"5 Star\", \"Category\": \"Chocolate\", \"Price\": 20, \"Quantity\": 100, \"Expiry Date\": \"26Nov2021\"}, \"202105\": {\"Product\": \"cadbury\", \"Category\": \"Chocolate\", \"Price\": 10, \"Quantity\": 100, \"Expiry Date\": \"24Dec2021\"}, \"202106\": {\"Product\": \"Snickers\", \"Category\": \"Chocolate\", \"Price\": 15, \"Quantity\": 100, \"Expiry Date\": \"24Nov2021\"}, \"202107\": {\"Product\": \"Coca-Cola\", \"Category\": \"Soft Drinks\", \"Price\": 40, \"Quantity\": 100, \"Expiry Date\": \"24Nov2021\"}, \"202108\": {\"Product\": \"Fanta\", \"Category\": \"Soft Drinks\", \"Price\": 35, \"Quantity\": 100, \"Expiry Date\": \"24Nov2021\"}, \"202109\": {\"Product\": \"Mazza\", \"Category\": \"Soft Drinks\", \"Price\": 35, \"Quantity\": 100, \"Expiry Date\": \"24Nov2021\"}, \"202110\": {\"Product\": \"Slice\", \"Category\": \"Soft Drinks\", \"Price\": 40, \"Quantity\": 100, \"Expiry Date\": \"24Nov2021\"}, \"202111\": {\"Product\": \"Maggi\", \"Category\": \"Noodles\", \"Price\": 10, \"Quantity\": 200, \"Expiry Date\": \"24Nov2021\"}, \"202112\": {\"Product\": \"Chawmin\", \"Category\": \"Noodles\", \"Price\": 10, \"Quantity\": 100, \"Expiry Date\": \"24Nov2021\"}, \"202113\": {\"Product\": \"Yippee\", \"Category\": \"Noodles\", \"Price\": 10, \"Quantity\": 100, \"Expiry Date\": \"24Nov2021\"}, \"202114\": {\"Product\": \"Musturd Oil\", \"Category\": \"Oil\", \"Price\": 120, \"Quantity\": 100, \"Expiry Date\": \"24Nov2021\"}, \"202115\": {\"Product\": \"Rice Brain\", \"Category\": \"Oil\", \"Price\": 120, \"Quantity\": 96, \"Expiry Date\": \"24Nov2021\"}, \"202116\": {\"Product\": \"Olive Active\", \"Category\": \"Oil\", \"Price\": 200, \"Quantity\": 100, \"Expiry Date\": \"24Nov2021\"}, \"202117\": {\"Product\": \"Oreo\", \"Category\": \"Biscuit\", \"Price\": 10, \"Quantity\": 100, \"Expiry Date\": \"24Nov2021\"}, \"202118\": {\"Product\": \"Sunfeast\", \"Category\": \"Biscuit\", \"Price\": 10, \"Quantity\": 100, \"Expiry Date\": \"24Nov2021\"}, \"202119\": {\"Product\": \"50-50\", \"Category\": \"Biscuit\", \"Price\": 15, \"Quantity\": 100, \"Expiry Date\": \"24Nov2021\"}, \"202120\": {\"Product\": \"Dark Fantasy\", \"Category\": \"Biscuit\", \"Price\": 40, \"Quantity\": 100, \"Expiry Date\": \"24Dec2021\"}, \"202121\": {\"Product\": \"Burbon\", \"Category\": \"Biscuit\", \"Price\": 40, \"Quantity\": 100, \"Expiry Date\": \"24Dec2021\"}, \"202122\": {\"Product\": \"Milano\", \"Category\": \"Biscuit\", \"Price\": 40, \"Quantity\": 100, \"Expiry Date\": \"24Dec2021\"}, \"202123\": {\"Product\": \"Cake\", \"Category\": \"Pastry\", \"Price\": 25, \"Quantity\": 100, \"Expiry Date\": \"24Dec2021\"}, \"202124\": {\"Product\": \"Lays\", \"Category\": \"Chips\", \"Price\": 10, \"Quantity\": 100, \"Expiry Date\": \"24Dec2021\"}, \"202125\": {\"Product\": \"Uncle Chips\", \"Category\": \"Chips\", \"Price\": 10, \"Quantity\": 100, \"Expiry Date\": \"24Dec2021\"}, \"202126\": {\"Product\": \"Mad Angle\", \"Category\": \"Chips\", \"Price\": 10, \"Quantity\": 100, \"Expiry Date\": \"24Dec2021\"}, \"202127\": {\"Product\": \"Cheatos\", \"Category\": \"Chips\", \"Price\": 10, \"Quantity\": 100, \"Expiry Date\": \"24Dec2021\"}, \"202128\": {\"Product\": \"Pasta\", \"Category\": \"Macroni\", \"Price\": 20, \"Quantity\": 100, \"Expiry Date\": \"24Dec2021\"}, \"202129\": {\"Product\": \"SwissRoll\", \"Category\": \"Cake\", \"Price\": 10, \"Quantity\": 100, \"Expiry Date\": \"24Dec2021\"}, \"202130\": {\"Product\": \"Krack-Jack\", \"Category\": \"Biscuit\", \"Price\": 10, \"Quantity\": 100, \"Expiry Date\": \"24Dec2021\"}}'"
      ]
     },
     "metadata": {},
     "execution_count": 27
    }
   ],
   "metadata": {}
  },
  {
   "cell_type": "code",
   "execution_count": 28,
   "source": [
    "checking=json.loads(records)"
   ],
   "outputs": [],
   "metadata": {}
  },
  {
   "cell_type": "code",
   "execution_count": 33,
   "source": [
    "checking[uid]"
   ],
   "outputs": [
    {
     "output_type": "execute_result",
     "data": {
      "text/plain": [
       "{'Product': 'Rice Brain',\n",
       " 'Category': 'Oil',\n",
       " 'Price': 120,\n",
       " 'Quantity': 96,\n",
       " 'Expiry Date': '24Nov2021'}"
      ]
     },
     "metadata": {},
     "execution_count": 33
    }
   ],
   "metadata": {}
  },
  {
   "cell_type": "code",
   "execution_count": null,
   "source": [],
   "outputs": [],
   "metadata": {}
  }
 ],
 "metadata": {
  "orig_nbformat": 4,
  "language_info": {
   "name": "python",
   "version": "3.7.6",
   "mimetype": "text/x-python",
   "codemirror_mode": {
    "name": "ipython",
    "version": 3
   },
   "pygments_lexer": "ipython3",
   "nbconvert_exporter": "python",
   "file_extension": ".py"
  },
  "kernelspec": {
   "name": "python3",
   "display_name": "Python 3.7.6 64-bit ('base': conda)"
  },
  "interpreter": {
   "hash": "4905652b14e4b7eb92899b78ac499a22c488804455b27940a322fd82aaf71031"
  }
 },
 "nbformat": 4,
 "nbformat_minor": 2
}